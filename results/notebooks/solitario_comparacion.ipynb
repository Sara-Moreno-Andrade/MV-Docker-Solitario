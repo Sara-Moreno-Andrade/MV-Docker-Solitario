{
 "cells": [
  {
   "cell_type": "code",
   "execution_count": null,
   "id": "956ece9e",
   "metadata": {
    "vscode": {
     "languageId": "plaintext"
    }
   },
   "outputs": [],
   "source": [
    "import pandas as pd\n",
    "import matplotlib.pyplot as plt\n",
    "\n",
    "vm = pd.read_csv(\"../results/benchmark_vm.csv\")\n",
    "docker = pd.read_csv(\"../results/benchmark_docker.csv\")\n",
    "\n",
    "plt.plot(vm[\"RAM (MB)\"], label=\"VM\")\n",
    "plt.plot(docker[\"RAM (MB)\"], label=\"Docker\")\n",
    "plt.legend()\n",
    "plt.title(\"Comparación de uso de RAM\")\n",
    "plt.show()\n"
   ]
  }
 ],
 "metadata": {
  "language_info": {
   "name": "python"
  }
 },
 "nbformat": 4,
 "nbformat_minor": 5
}
